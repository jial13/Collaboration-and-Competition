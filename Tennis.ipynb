{
 "cells": [
  {
   "cell_type": "markdown",
   "metadata": {},
   "source": [
    "# Collaboration and Competition\n",
    "\n",
    "---\n",
    "\n",
    "In this notebook, you will learn how to use the Unity ML-Agents environment for the third project of the [Deep Reinforcement Learning Nanodegree](https://www.udacity.com/course/deep-reinforcement-learning-nanodegree--nd893) program.\n",
    "\n",
    "### 1. Start the Environment\n",
    "\n",
    "We begin by importing the necessary packages.  If the code cell below returns an error, please revisit the project instructions to double-check that you have installed [Unity ML-Agents](https://github.com/Unity-Technologies/ml-agents/blob/master/docs/Installation.md) and [NumPy](http://www.numpy.org/)."
   ]
  },
  {
   "cell_type": "code",
   "execution_count": 1,
   "metadata": {},
   "outputs": [],
   "source": [
    "from unityagents import UnityEnvironment\n",
    "import numpy as np"
   ]
  },
  {
   "cell_type": "markdown",
   "metadata": {},
   "source": [
    "Next, we will start the environment!  **_Before running the code cell below_**, change the `file_name` parameter to match the location of the Unity environment that you downloaded.\n",
    "\n",
    "- **Mac**: `\"path/to/Tennis.app\"`\n",
    "- **Windows** (x86): `\"path/to/Tennis_Windows_x86/Tennis.exe\"`\n",
    "- **Windows** (x86_64): `\"path/to/Tennis_Windows_x86_64/Tennis.exe\"`\n",
    "- **Linux** (x86): `\"path/to/Tennis_Linux/Tennis.x86\"`\n",
    "- **Linux** (x86_64): `\"path/to/Tennis_Linux/Tennis.x86_64\"`\n",
    "- **Linux** (x86, headless): `\"path/to/Tennis_Linux_NoVis/Tennis.x86\"`\n",
    "- **Linux** (x86_64, headless): `\"path/to/Tennis_Linux_NoVis/Tennis.x86_64\"`\n",
    "\n",
    "For instance, if you are using a Mac, then you downloaded `Tennis.app`.  If this file is in the same folder as the notebook, then the line below should appear as follows:\n",
    "```\n",
    "env = UnityEnvironment(file_name=\"Tennis.app\")\n",
    "```"
   ]
  },
  {
   "cell_type": "code",
   "execution_count": 2,
   "metadata": {},
   "outputs": [
    {
     "name": "stderr",
     "output_type": "stream",
     "text": [
      "INFO:unityagents:\n",
      "'Academy' started successfully!\n",
      "Unity Academy name: Academy\n",
      "        Number of Brains: 1\n",
      "        Number of External Brains : 1\n",
      "        Lesson number : 0\n",
      "        Reset Parameters :\n",
      "\t\t\n",
      "Unity brain name: TennisBrain\n",
      "        Number of Visual Observations (per agent): 0\n",
      "        Vector Observation space type: continuous\n",
      "        Vector Observation space size (per agent): 8\n",
      "        Number of stacked Vector Observation: 3\n",
      "        Vector Action space type: continuous\n",
      "        Vector Action space size (per agent): 2\n",
      "        Vector Action descriptions: , \n"
     ]
    }
   ],
   "source": [
    "env = UnityEnvironment(file_name=\"Tennis.exe\", worker_id=4)"
   ]
  },
  {
   "cell_type": "markdown",
   "metadata": {},
   "source": [
    "Environments contain **_brains_** which are responsible for deciding the actions of their associated agents. Here we check for the first brain available, and set it as the default brain we will be controlling from Python."
   ]
  },
  {
   "cell_type": "code",
   "execution_count": 3,
   "metadata": {},
   "outputs": [],
   "source": [
    "# get the default brain\n",
    "brain_name = env.brain_names[0]\n",
    "brain = env.brains[brain_name]"
   ]
  },
  {
   "cell_type": "markdown",
   "metadata": {},
   "source": [
    "### 2. Examine the State and Action Spaces\n",
    "\n",
    "In this environment, two agents control rackets to bounce a ball over a net. If an agent hits the ball over the net, it receives a reward of +0.1.  If an agent lets a ball hit the ground or hits the ball out of bounds, it receives a reward of -0.01.  Thus, the goal of each agent is to keep the ball in play.\n",
    "\n",
    "The observation space consists of 8 variables corresponding to the position and velocity of the ball and racket. Two continuous actions are available, corresponding to movement toward (or away from) the net, and jumping. \n",
    "\n",
    "Run the code cell below to print some information about the environment."
   ]
  },
  {
   "cell_type": "code",
   "execution_count": 4,
   "metadata": {},
   "outputs": [
    {
     "name": "stdout",
     "output_type": "stream",
     "text": [
      "Number of agents: 2\n",
      "Size of each action: 2\n",
      "There are 2 agents. Each observes a state with length: 24\n",
      "The state for the first agent looks like: [ 0.          0.          0.          0.          0.          0.\n",
      "  0.          0.          0.          0.          0.          0.\n",
      "  0.          0.          0.          0.         -6.65278625 -1.5\n",
      " -0.          0.          6.83172083  6.         -0.          0.        ]\n"
     ]
    }
   ],
   "source": [
    "# reset the environment\n",
    "env_info = env.reset(train_mode=True)[brain_name]\n",
    "\n",
    "# number of agents \n",
    "num_agents = len(env_info.agents)\n",
    "print('Number of agents:', num_agents)\n",
    "\n",
    "# size of each action\n",
    "action_size = brain.vector_action_space_size\n",
    "print('Size of each action:', action_size)\n",
    "\n",
    "# examine the state space \n",
    "states = env_info.vector_observations\n",
    "state_size = states.shape[1]\n",
    "print('There are {} agents. Each observes a state with length: {}'.format(states.shape[0], state_size))\n",
    "print('The state for the first agent looks like:', states[0])"
   ]
  },
  {
   "cell_type": "markdown",
   "metadata": {},
   "source": [
    "### 3. Take Random Actions in the Environment\n",
    "\n",
    "In the next code cell, you will learn how to use the Python API to control the agents and receive feedback from the environment.\n",
    "\n",
    "Once this cell is executed, you will watch the agents' performance, if they select actions at random with each time step.  A window should pop up that allows you to observe the agents.\n",
    "\n",
    "Of course, as part of the project, you'll have to change the code so that the agents are able to use their experiences to gradually choose better actions when interacting with the environment!"
   ]
  },
  {
   "cell_type": "code",
   "execution_count": 5,
   "metadata": {},
   "outputs": [],
   "source": [
    "#for i in range(5):                                         # play game for 5 episodes\n",
    "    #env_info = env.reset(train_mode=False)[brain_name]     # reset the environment    \n",
    "    #states = env_info.vector_observations                  # get the current state (for each agent)\n",
    "    #scores = np.zeros(num_agents)                          # initialize the score (for each agent)\n",
    "    #while True:\n",
    "        #actions = np.random.randn(num_agents, action_size) # select an action (for each agent)\n",
    "        #actions = np.clip(actions, -1, 1)                  # all actions between -1 and 1\n",
    "        #env_info = env.step(actions)[brain_name]           # send all actions to tne environment\n",
    "        #next_states = env_info.vector_observations         # get next state (for each agent)\n",
    "        #rewards = env_info.rewards                         # get reward (for each agent)\n",
    "        #dones = env_info.local_done                        # see if episode finished\n",
    "        #scores += env_info.rewards                         # update the score (for each agent)\n",
    "        #states = next_states                               # roll over states to next time step\n",
    "        #if np.any(dones):                                  # exit loop if episode finished\n",
    "            #break\n",
    "    #print('Total score (averaged over agents) this episode: {}'.format(np.mean(scores)))"
   ]
  },
  {
   "cell_type": "markdown",
   "metadata": {},
   "source": [
    "When finished, you can close the environment."
   ]
  },
  {
   "cell_type": "code",
   "execution_count": 6,
   "metadata": {},
   "outputs": [],
   "source": [
    "#env.close()"
   ]
  },
  {
   "cell_type": "markdown",
   "metadata": {},
   "source": [
    "### 4. It's Your Turn!\n",
    "\n",
    "Now it's your turn to train your own agent to solve the environment!  When training the environment, set `train_mode=True`, so that the line for resetting the environment looks like the following:\n",
    "```python\n",
    "env_info = env.reset(train_mode=True)[brain_name]\n",
    "```"
   ]
  },
  {
   "cell_type": "code",
   "execution_count": 7,
   "metadata": {},
   "outputs": [],
   "source": [
    "from collections import deque\n",
    "from ddpg_agent import Agent\n",
    "import torch\n",
    "import time\n",
    "\n",
    "agent1 = Agent(state_size=state_size, action_size=action_size, random_seed=0)\n",
    "agent2 = Agent(state_size=state_size, action_size=action_size, random_seed=0)\n",
    "def ddpg(n_episodes=200000, max_t=10000, print_every=10):\n",
    "    \"\"\"DDPG training loop.\n",
    "    \n",
    "    Params\n",
    "    ======\n",
    "        n_episodes (int): maximum training episodes\n",
    "        max_t (int): maximum timesteps per episode\n",
    "        print_every (int): frequency of printing information\n",
    "    \"\"\"\n",
    "    \n",
    "    scores = []\n",
    "    scores_deque = deque(maxlen=100)\n",
    "    \n",
    "    for i_episode in range(1, n_episodes+1):\n",
    "        env_info = env.reset(train_mode=True)[brain_name]\n",
    "        agent1.reset()\n",
    "        agent2.reset()\n",
    "        state = env_info.vector_observations            # get the current state\n",
    "        score = np.zeros(num_agents)\n",
    "        \n",
    "        for t in range(max_t):\n",
    "            action1 = agent1.act(state[0])\n",
    "            action2 = agent2.act(state[1])\n",
    "            action = np.concatenate((action1, action2))\n",
    "            env_info = env.step(action)[brain_name]\n",
    "            next_state = env_info.vector_observations\n",
    "            reward = env_info.rewards\n",
    "            done = env_info.local_done\n",
    "            #agent.step(state, action, reward, next_state, done, True)\n",
    "            agent1.step(state[0], action[0], reward[0], next_state[0], done[0], True)\n",
    "            agent2.step(state[1], action[1], reward[1], next_state[1], done[1], True)\n",
    "            score += reward\n",
    "            state = next_state\n",
    "            if np.any(done):\n",
    "                break\n",
    "        scores_deque.append(score)\n",
    "        scores.append(score)\n",
    "\n",
    "        print('\\rEpisode {}\\tAverage Score: {:.6f}'.format(i_episode, np.mean(scores)), end=\"\")\n",
    "        \n",
    "        if i_episode % print_every == 0:\n",
    "            print('\\rEpisode {}\\tAverage Score: {:.6f}'.format(i_episode, np.mean(scores_deque)))\n",
    "            torch.save(agent1.actor_local.state_dict(), 'checkpoint_actor1.pth')\n",
    "            torch.save(agent1.critic_local.state_dict(), 'checkpoint_critic1.pth')\n",
    "            torch.save(agent2.actor_local.state_dict(), 'checkpoint_actor2.pth')\n",
    "            torch.save(agent2.critic_local.state_dict(), 'checkpoint_critic2.pth')\n",
    "        \n",
    "        if np.mean(scores_deque)>=0.5:\n",
    "            print('\\nEnvironment solved in {:d} episodes!\\tAverage Score: {:.6f}'.format(i_episode, np.mean(scores_deque)))\n",
    "            torch.save(agent1.actor_local.state_dict(), 'checkpoint_actor1.pth')\n",
    "            torch.save(agent1.critic_local.state_dict(), 'checkpoint_critic1.pth')\n",
    "            torch.save(agent2.actor_local.state_dict(), 'checkpoint_actor2.pth')\n",
    "            torch.save(agent2.critic_local.state_dict(), 'checkpoint_critic2.pth')\n",
    "            break\n",
    "    return scores"
   ]
  },
  {
   "cell_type": "code",
   "execution_count": 8,
   "metadata": {},
   "outputs": [
    {
     "name": "stderr",
     "output_type": "stream",
     "text": [
      "D:\\Programming\\Anaconda\\envs\\ML\\lib\\site-packages\\torch\\nn\\functional.py:1320: UserWarning: nn.functional.tanh is deprecated. Use torch.tanh instead.\n",
      "  warnings.warn(\"nn.functional.tanh is deprecated. Use torch.tanh instead.\")\n"
     ]
    },
    {
     "name": "stdout",
     "output_type": "stream",
     "text": [
      "Episode 10\tAverage Score: -0.005000\n",
      "Episode 20\tAverage Score: -0.005000\n",
      "Episode 30\tAverage Score: -0.003333\n",
      "Episode 40\tAverage Score: -0.003750\n",
      "Episode 50\tAverage Score: -0.004000\n",
      "Episode 60\tAverage Score: -0.004167\n",
      "Episode 70\tAverage Score: -0.004286\n",
      "Episode 80\tAverage Score: -0.004375\n",
      "Episode 90\tAverage Score: -0.004444\n",
      "Episode 100\tAverage Score: -0.004500\n",
      "Episode 110\tAverage Score: -0.004500\n",
      "Episode 120\tAverage Score: -0.004500\n",
      "Episode 130\tAverage Score: -0.004500\n",
      "Episode 140\tAverage Score: -0.004500\n",
      "Episode 150\tAverage Score: -0.003500\n",
      "Episode 160\tAverage Score: -0.002500\n",
      "Episode 170\tAverage Score: -0.001500\n",
      "Episode 180\tAverage Score: 0.0015001\n",
      "Episode 190\tAverage Score: 0.0020003\n",
      "Episode 200\tAverage Score: 0.0020000\n",
      "Episode 210\tAverage Score: 0.0020009\n",
      "Episode 220\tAverage Score: 0.0020001\n",
      "Episode 230\tAverage Score: 0.0015009\n",
      "Episode 240\tAverage Score: 0.0015005\n",
      "Episode 250\tAverage Score: 0.0005000\n",
      "Episode 260\tAverage Score: -0.000500\n",
      "Episode 270\tAverage Score: -0.001500\n",
      "Episode 280\tAverage Score: -0.004500\n",
      "Episode 290\tAverage Score: -0.005000\n",
      "Episode 300\tAverage Score: -0.005000\n",
      "Episode 310\tAverage Score: -0.005000\n",
      "Episode 320\tAverage Score: -0.005000\n",
      "Episode 330\tAverage Score: -0.005000\n",
      "Episode 340\tAverage Score: -0.005000\n",
      "Episode 350\tAverage Score: -0.005000\n",
      "Episode 360\tAverage Score: -0.005000\n",
      "Episode 370\tAverage Score: -0.005000\n",
      "Episode 380\tAverage Score: -0.005000\n",
      "Episode 390\tAverage Score: -0.005000\n",
      "Episode 400\tAverage Score: -0.005000\n",
      "Episode 410\tAverage Score: -0.005000\n",
      "Episode 420\tAverage Score: -0.005000\n",
      "Episode 430\tAverage Score: -0.005000\n",
      "Episode 440\tAverage Score: -0.005000\n",
      "Episode 450\tAverage Score: -0.005000\n",
      "Episode 460\tAverage Score: -0.005000\n",
      "Episode 470\tAverage Score: -0.005000\n",
      "Episode 480\tAverage Score: -0.005000\n",
      "Episode 490\tAverage Score: -0.005000\n",
      "Episode 500\tAverage Score: -0.005000\n",
      "Episode 510\tAverage Score: -0.004500\n",
      "Episode 520\tAverage Score: -0.004500\n",
      "Episode 530\tAverage Score: -0.004500\n",
      "Episode 540\tAverage Score: -0.004500\n",
      "Episode 550\tAverage Score: -0.004500\n",
      "Episode 560\tAverage Score: -0.004500\n",
      "Episode 570\tAverage Score: -0.004500\n",
      "Episode 580\tAverage Score: -0.004500\n",
      "Episode 590\tAverage Score: -0.004500\n",
      "Episode 600\tAverage Score: -0.004500\n",
      "Episode 610\tAverage Score: -0.005000\n",
      "Episode 620\tAverage Score: -0.004000\n",
      "Episode 630\tAverage Score: -0.004000\n",
      "Episode 640\tAverage Score: -0.004000\n",
      "Episode 650\tAverage Score: -0.004000\n",
      "Episode 660\tAverage Score: -0.004000\n",
      "Episode 670\tAverage Score: -0.004000\n",
      "Episode 680\tAverage Score: -0.003000\n",
      "Episode 690\tAverage Score: -0.002500\n",
      "Episode 700\tAverage Score: -0.002000\n",
      "Episode 710\tAverage Score: -0.000500\n",
      "Episode 720\tAverage Score: -0.000500\n",
      "Episode 730\tAverage Score: 0.0005004\n",
      "Episode 740\tAverage Score: 0.0005001\n",
      "Episode 750\tAverage Score: 0.0005007\n",
      "Episode 760\tAverage Score: 0.0010006\n",
      "Episode 770\tAverage Score: 0.0030002\n",
      "Episode 780\tAverage Score: 0.0030002\n",
      "Episode 790\tAverage Score: 0.0030008\n",
      "Episode 800\tAverage Score: 0.0030005\n",
      "Episode 810\tAverage Score: 0.0035007\n",
      "Episode 820\tAverage Score: 0.0025009\n",
      "Episode 830\tAverage Score: 0.0025009\n",
      "Episode 840\tAverage Score: 0.0045003\n",
      "Episode 850\tAverage Score: 0.0060000\n",
      "Episode 860\tAverage Score: 0.0090008\n",
      "Episode 870\tAverage Score: 0.0080002\n",
      "Episode 880\tAverage Score: 0.0090004\n",
      "Episode 890\tAverage Score: 0.0135003\n",
      "Episode 900\tAverage Score: 0.0195007\n",
      "Episode 910\tAverage Score: 0.0225007\n",
      "Episode 920\tAverage Score: 0.029000\n",
      "Episode 930\tAverage Score: 0.033500\n",
      "Episode 940\tAverage Score: 0.036500\n",
      "Episode 950\tAverage Score: 0.040000\n",
      "Episode 960\tAverage Score: 0.042500\n",
      "Episode 970\tAverage Score: 0.047000\n",
      "Episode 980\tAverage Score: 0.050000\n",
      "Episode 990\tAverage Score: 0.050000\n",
      "Episode 1000\tAverage Score: 0.048500\n",
      "Episode 1010\tAverage Score: 0.048000\n",
      "Episode 1020\tAverage Score: 0.047000\n",
      "Episode 1030\tAverage Score: 0.046500\n",
      "Episode 1040\tAverage Score: 0.046500\n",
      "Episode 1050\tAverage Score: 0.047000\n",
      "Episode 1060\tAverage Score: 0.047000\n",
      "Episode 1070\tAverage Score: 0.046500\n",
      "Episode 1080\tAverage Score: 0.047500\n",
      "Episode 1090\tAverage Score: 0.047500\n",
      "Episode 1100\tAverage Score: 0.048500\n",
      "Episode 1110\tAverage Score: 0.049000\n",
      "Episode 1120\tAverage Score: 0.048500\n",
      "Episode 1130\tAverage Score: 0.049000\n",
      "Episode 1140\tAverage Score: 0.048500\n",
      "Episode 1150\tAverage Score: 0.048000\n",
      "Episode 1160\tAverage Score: 0.048000\n",
      "Episode 1170\tAverage Score: 0.049000\n",
      "Episode 1180\tAverage Score: 0.049000\n",
      "Episode 1190\tAverage Score: 0.049000\n",
      "Episode 1200\tAverage Score: 0.048000\n",
      "Episode 1210\tAverage Score: 0.047500\n",
      "Episode 1220\tAverage Score: 0.050000\n",
      "Episode 1230\tAverage Score: 0.050000\n",
      "Episode 1240\tAverage Score: 0.053500\n",
      "Episode 1250\tAverage Score: 0.055000\n",
      "Episode 1260\tAverage Score: 0.057500\n",
      "Episode 1270\tAverage Score: 0.056000\n",
      "Episode 1280\tAverage Score: 0.058500\n",
      "Episode 1290\tAverage Score: 0.061500\n",
      "Episode 1300\tAverage Score: 0.065000\n",
      "Episode 1310\tAverage Score: 0.065500\n",
      "Episode 1320\tAverage Score: 0.066500\n",
      "Episode 1330\tAverage Score: 0.068500\n",
      "Episode 1340\tAverage Score: 0.070000\n",
      "Episode 1350\tAverage Score: 0.077500\n",
      "Episode 1360\tAverage Score: 0.098000\n",
      "Episode 1370\tAverage Score: 0.127500\n",
      "Episode 1380\tAverage Score: 0.144500\n",
      "Episode 1390\tAverage Score: 0.179500\n",
      "Episode 1400\tAverage Score: 0.215000\n",
      "Episode 1410\tAverage Score: 0.241500\n",
      "Episode 1420\tAverage Score: 0.300050\n",
      "Episode 1430\tAverage Score: 0.346050\n",
      "Episode 1440\tAverage Score: 0.414050\n",
      "Episode 1450\tAverage Score: 0.478050\n",
      "Episode 1457\tAverage Score: 0.053415\n",
      "Environment solved in 1457 episodes!\tAverage Score: 0.506600\n"
     ]
    },
    {
     "data": {
      "text/plain": [
       "<Figure size 2000x700 with 1 Axes>"
      ]
     },
     "metadata": {},
     "output_type": "display_data"
    }
   ],
   "source": [
    "scores = ddpg()\n",
    "\n",
    "import matplotlib.pyplot as plt\n",
    "\n",
    "fig = plt.figure(figsize=(20, 7))\n",
    "ax = fig.add_subplot(111)\n",
    "plt.plot(np.arange(len(scores)), scores)\n",
    "plt.ylabel('Score')\n",
    "plt.xlabel('Episode #')\n",
    "plt.show()"
   ]
  },
  {
   "cell_type": "code",
   "execution_count": 9,
   "metadata": {},
   "outputs": [
    {
     "data": {
      "image/png": "[encoded data removed]",
      "text/plain": [
       "<Figure size 1440x504 with 1 Axes>"
      ]
     },
     "metadata": {
      "needs_background": "light"
     },
     "output_type": "display_data"
    }
   ],
   "source": [
    "fig = plt.figure(figsize=(20, 7))\n",
    "ax = fig.add_subplot(111)\n",
    "plt.plot(np.arange(len(scores)), scores)\n",
    "plt.ylabel('Score')\n",
    "plt.xlabel('Episode #')\n",
    "plt.show()"
   ]
  },
  {
   "cell_type": "code",
   "execution_count": null,
   "metadata": {},
   "outputs": [],
   "source": []
  },
  {
   "cell_type": "code",
   "execution_count": null,
   "metadata": {},
   "outputs": [],
   "source": []
  },
  {
   "cell_type": "code",
   "execution_count": null,
   "metadata": {},
   "outputs": [],
   "source": []
  }
 ],
 "metadata": {
  "kernelspec": {
   "display_name": "Python [conda env:ML]",
   "language": "python",
   "name": "conda-env-ML-py"
  },
  "language_info": {
   "codemirror_mode": {
    "name": "ipython",
    "version": 3
   },
   "file_extension": ".py",
   "mimetype": "text/x-python",
   "name": "python",
   "nbconvert_exporter": "python",
   "pygments_lexer": "ipython3",
   "version": "3.6.8"
  }
 },
 "nbformat": 4,
 "nbformat_minor": 2
}
